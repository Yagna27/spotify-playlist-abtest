{
  "nbformat": 4,
  "nbformat_minor": 0,
  "metadata": {
    "colab": {
      "provenance": []
    },
    "kernelspec": {
      "name": "python3",
      "display_name": "Python 3"
    },
    "language_info": {
      "name": "python"
    }
  },
  "cells": [
    {
      "cell_type": "code",
      "execution_count": 1,
      "metadata": {
        "id": "xySjOA5OSy0Q",
        "colab": {
          "base_uri": "https://localhost:8080/"
        },
        "outputId": "6c39fc0b-bf7e-4c28-ce2d-3261cce7bef3"
      },
      "outputs": [
        {
          "output_type": "stream",
          "name": "stdout",
          "text": [
            "\u001b[?25l   \u001b[90m━━━━━━━━━━━━━━━━━━━━━━━━━━━━━━━━━━━━━━━━\u001b[0m \u001b[32m0.0/278.7 kB\u001b[0m \u001b[31m?\u001b[0m eta \u001b[36m-:--:--\u001b[0m\r\u001b[2K   \u001b[90m━━━━━━━━━━━━━━━━━━━━━━━━━━━━━━━━━━━━━━━━\u001b[0m \u001b[32m278.7/278.7 kB\u001b[0m \u001b[31m10.0 MB/s\u001b[0m eta \u001b[36m0:00:00\u001b[0m\n",
            "\u001b[?25h"
          ]
        }
      ],
      "source": [
        "!pip install spotipy --quiet\n"
      ]
    },
    {
      "cell_type": "code",
      "source": [
        "import spotipy\n",
        "from spotipy.oauth2 import SpotifyClientCredentials\n",
        "\n",
        "\n",
        "CLIENT_ID = "<client_id_from_spotify_web_api"'\n",
        "CLIENT_SECRET = '<client_secret'\n",
        "\n",
        "auth_manager = SpotifyClientCredentials(client_id=CLIENT_ID, client_secret=CLIENT_SECRET)\n",
        "sp = spotipy.Spotify(auth_manager=auth_manager)\n"
      ],
      "metadata": {
        "id": "IZf-cZEjSz4a"
      },
      "execution_count": 22,
      "outputs": []
    },
    {
      "cell_type": "code",
      "source": [
        "def search_playlists(keywords, limit=50, pages=4):\n",
        "    playlists = []\n",
        "    for keyword in keywords:\n",
        "        for page in range(pages):\n",
        "            offset = page * limit\n",
        "            results = sp.search(q=keyword, type='playlist', limit=limit, offset=offset)\n",
        "            if results and 'playlists' in results and results['playlists'] and 'items' in results['playlists']:\n",
        "                for item in results['playlists']['items']:\n",
        "                    if item and 'owner' in item and 'id' in item['owner'] and 'tracks' in item:\n",
        "                        playlists.append({\n",
        "                            'name': item.get('name', 'N/A'),\n",
        "                            'id': item.get('id', 'N/A'),\n",
        "                            'keyword': keyword,\n",
        "                            'followers': item['owner'].get('id', 'N/A'),\n",
        "                            'tracks_url': item['tracks'].get('href', 'N/A')\n",
        "                        })\n",
        "            else:\n",
        "                print(f\"No playlists found for keyword: {keyword} on page {page+1}\")\n",
        "    return playlists\n",
        "\n",
        "\n",
        "mood_keywords = ['Chill', 'Happy', 'Workout', 'Sleep', 'Romantic',\n",
        "    'Party', 'Focus', 'Sad', 'Relax', 'Feel Good']\n",
        "genre_keywords = ['Rock', 'Pop', 'Jazz', 'Hip-hop', 'EDM',\n",
        "    'Classical', 'Reggae', 'Blues', 'Folk', 'Indie']\n",
        "\n",
        "mood_playlists = search_playlists(mood_keywords)\n",
        "genre_playlists = search_playlists(genre_keywords)\n",
        "\n",
        "print(\"Mood Playlists:\", len(mood_playlists))\n",
        "print(\"Genre Playlists:\", len(genre_playlists))"
      ],
      "metadata": {
        "colab": {
          "base_uri": "https://localhost:8080/"
        },
        "id": "nnol0GKlS3d1",
        "outputId": "328cd810-3205-4cd2-b0c2-b7315cd31c4e"
      },
      "execution_count": 15,
      "outputs": [
        {
          "output_type": "stream",
          "name": "stdout",
          "text": [
            "Mood Playlists: 1373\n",
            "Genre Playlists: 1290\n"
          ]
        }
      ]
    },
    {
      "cell_type": "code",
      "source": [
        "playlist_raw=mood_playlists+genre_playlists"
      ],
      "metadata": {
        "id": "R1ob9m2qwO6f"
      },
      "execution_count": 49,
      "outputs": []
    },
    {
      "cell_type": "code",
      "source": [
        "playlist_raw=pd.DataFrame(playlist_raw)\n",
        "playlist_raw.to_csv('playlist_raw.csv', index=False)"
      ],
      "metadata": {
        "id": "1noPFN3TwTp9"
      },
      "execution_count": 50,
      "outputs": []
    },
    {
      "cell_type": "code",
      "source": [
        "mood_playlists[1]"
      ],
      "metadata": {
        "colab": {
          "base_uri": "https://localhost:8080/"
        },
        "id": "Ux_dvjvist1e",
        "outputId": "880f9d03-644e-40c0-c5ce-69b27f71c781"
      },
      "execution_count": 16,
      "outputs": [
        {
          "output_type": "execute_result",
          "data": {
            "text/plain": [
              "{'name': 'Chill music😴',\n",
              " 'id': '7u462zYpYcgQWgsOR6lxGy',\n",
              " 'keyword': 'Chill',\n",
              " 'followers': 'anthonyhendrix17',\n",
              " 'tracks_url': 'https://api.spotify.com/v1/playlists/7u462zYpYcgQWgsOR6lxGy/tracks'}"
            ]
          },
          "metadata": {},
          "execution_count": 16
        }
      ]
    },
    {
      "cell_type": "code",
      "source": [
        "def get_playlist_tracks(playlist_id):\n",
        "    # Added error handling for the API call itself\n",
        "    try:\n",
        "        results = sp.playlist_items(playlist_id, fields='items.track.id,items.track.name,items.track.popularity,items.track.duration_ms,total', limit=100)\n",
        "    except spotipy.exceptions.SpotifyException as e:\n",
        "        print(f\"Error fetching tracks for playlist {playlist_id}: {e}\")\n",
        "        return [] # Return empty list if API call fails\n",
        "\n",
        "    tracks = results.get('items', []) # Use .get() to safely access 'items', default to empty list\n",
        "\n",
        "    track_data = []\n",
        "    for item in tracks:\n",
        "        # Check if item is valid and has a 'track' key, and that 'track' is not None\n",
        "        if item and 'track' in item and item['track'] is not None:\n",
        "            track = item['track']\n",
        "            # Check if the necessary keys exist in the track dictionary\n",
        "            if 'id' in track and 'name' in track and 'popularity' in track and 'duration_ms' in track:\n",
        "                track_data.append({\n",
        "                    'track_id': track['id'],\n",
        "                    'track_name': track['name'],\n",
        "                    'popularity': track['popularity'],\n",
        "                    'duration_ms': track['duration_ms']\n",
        "                })\n",
        "            else:\n",
        "                # Optional: Print a message if a track item is missing expected keys\n",
        "                # print(f\"Skipping track in playlist {playlist_id} due to missing keys: {track}\")\n",
        "                pass # Or handle as needed\n",
        "        else:\n",
        "            # Optional: Print a message if an item is invalid or missing the 'track' key\n",
        "            # print(f\"Skipping invalid item in playlist {playlist_id}: {item}\")\n",
        "            pass # Or handle as needed\n",
        "    return track_data"
      ],
      "metadata": {
        "id": "lINih2eJstyE"
      },
      "execution_count": 17,
      "outputs": []
    },
    {
      "cell_type": "code",
      "source": [
        "# Example usage:\n",
        "playlist_id = '4bELZFReuqSjAbKb4HYOmx'\n",
        "tracks = get_playlist_tracks(playlist_id)\n",
        "\n"
      ],
      "metadata": {
        "id": "KVwk5VCstX5v"
      },
      "execution_count": 18,
      "outputs": []
    },
    {
      "cell_type": "code",
      "source": [
        "from tqdm import tqdm\n",
        "\n",
        "def collect_group_data(playlists, group_label):\n",
        "    all_data = []\n",
        "    # It's more efficient to store track IDs in a set to check for duplicates\n",
        "    seen_track_ids = set()\n",
        "\n",
        "    # Iterate through the list of playlist dictionaries\n",
        "    for playlist in tqdm(playlists):\n",
        "        # Extract the playlist ID string from the dictionary\n",
        "        pid = playlist.get('id')\n",
        "        if not pid or pid == 'N/A': # Skip if playlist ID is missing or 'N/A'\n",
        "            print(f\"Skipping playlist with missing ID in group: {group_label}\")\n",
        "            continue\n",
        "\n",
        "        # Pass the string playlist ID to get_tracks_from_playlist\n",
        "        tracks = get_playlist_tracks(pid)\n",
        "\n",
        "        for track in tracks:\n",
        "            track_id = track.get('track_id')\n",
        "            # Ensure track_id is valid and not already seen\n",
        "            if track_id and track_id not in seen_track_ids:\n",
        "                track['playlist_id'] = pid  # Add the playlist ID to the track data\n",
        "                track['group'] = group_label\n",
        "                all_data.append(track)\n",
        "                seen_track_ids.add(track_id) # Add track_id to the set of seen IDs\n",
        "\n",
        "    return all_data"
      ],
      "metadata": {
        "id": "Tt6N3oUWsts4"
      },
      "execution_count": 19,
      "outputs": []
    },
    {
      "cell_type": "code",
      "source": [
        "mood_data = collect_group_data(mood_playlists, 'Mood')"
      ],
      "metadata": {
        "colab": {
          "base_uri": "https://localhost:8080/"
        },
        "id": "3x6G4LTemTR9",
        "outputId": "7ae476ed-7b47-43ed-8ea6-0991620bffcd"
      },
      "execution_count": 20,
      "outputs": [
        {
          "output_type": "stream",
          "name": "stderr",
          "text": [
            "100%|██████████| 1373/1373 [09:12<00:00,  2.48it/s]\n"
          ]
        }
      ]
    },
    {
      "cell_type": "code",
      "source": [
        "genre_data = collect_group_data(genre_playlists, 'Genre')"
      ],
      "metadata": {
        "id": "iH00oNZBmUcj",
        "colab": {
          "base_uri": "https://localhost:8080/"
        },
        "outputId": "22f8edc8-f682-4a8d-8b38-668cfd164066"
      },
      "execution_count": 23,
      "outputs": [
        {
          "output_type": "stream",
          "name": "stderr",
          "text": [
            "100%|██████████| 1290/1290 [08:10<00:00,  2.63it/s]\n"
          ]
        }
      ]
    },
    {
      "cell_type": "code",
      "source": [
        "len(mood_data)"
      ],
      "metadata": {
        "id": "QUQ4ym4vneDD",
        "colab": {
          "base_uri": "https://localhost:8080/"
        },
        "outputId": "1e954635-b772-4a0f-c1e4-6cae93c57ebc"
      },
      "execution_count": 24,
      "outputs": [
        {
          "output_type": "execute_result",
          "data": {
            "text/plain": [
              "72483"
            ]
          },
          "metadata": {},
          "execution_count": 24
        }
      ]
    },
    {
      "cell_type": "code",
      "source": [
        "len(genre_data)"
      ],
      "metadata": {
        "colab": {
          "base_uri": "https://localhost:8080/"
        },
        "id": "KkS8YxxWf1In",
        "outputId": "124e2354-5763-43c3-d93d-dd30f2b3f153"
      },
      "execution_count": 25,
      "outputs": [
        {
          "output_type": "execute_result",
          "data": {
            "text/plain": [
              "73493"
            ]
          },
          "metadata": {},
          "execution_count": 25
        }
      ]
    },
    {
      "cell_type": "code",
      "source": [
        "import pandas as pd\n",
        "data= pd.DataFrame(mood_data+genre_data)"
      ],
      "metadata": {
        "id": "wv2VbvXFstqH"
      },
      "execution_count": 27,
      "outputs": []
    },
    {
      "cell_type": "code",
      "source": [
        "data.head()"
      ],
      "metadata": {
        "colab": {
          "base_uri": "https://localhost:8080/",
          "height": 241
        },
        "id": "mt7_SVZPstnw",
        "outputId": "c42cfb59-e3d5-49bd-8c70-f7f0cb9c7574"
      },
      "execution_count": 28,
      "outputs": [
        {
          "output_type": "execute_result",
          "data": {
            "text/plain": [
              "                 track_id                            track_name  popularity  \\\n",
              "0  62aP9fBQKYKxi7PDXwcUAS  ily (i love you baby) (feat. Emilee)          78   \n",
              "1  4MSj19TwYBLgDFj3ddEeco    Black Friday (pretty like the sun)          86   \n",
              "2  68gqfdmUcUNMRINRYMxUd0                         Sun Is Rising          48   \n",
              "3  5ITV0zqzjOYfFWpW0xBmRa                          Show Me Love          94   \n",
              "4  0h5tts0i2xdEXkbWLgjBof                                Baille          48   \n",
              "\n",
              "   duration_ms             playlist_id group  \n",
              "0       176546  7JabddFr3Q6JPsND4v9Swf  Mood  \n",
              "1       145599  7JabddFr3Q6JPsND4v9Swf  Mood  \n",
              "2       119423  7JabddFr3Q6JPsND4v9Swf  Mood  \n",
              "3       176965  7JabddFr3Q6JPsND4v9Swf  Mood  \n",
              "4       153442  7JabddFr3Q6JPsND4v9Swf  Mood  "
            ],
            "text/html": [
              "\n",
              "  <div id=\"df-ee1f349f-fd73-41b7-a249-ba206a0048f1\" class=\"colab-df-container\">\n",
              "    <div>\n",
              "<style scoped>\n",
              "    .dataframe tbody tr th:only-of-type {\n",
              "        vertical-align: middle;\n",
              "    }\n",
              "\n",
              "    .dataframe tbody tr th {\n",
              "        vertical-align: top;\n",
              "    }\n",
              "\n",
              "    .dataframe thead th {\n",
              "        text-align: right;\n",
              "    }\n",
              "</style>\n",
              "<table border=\"1\" class=\"dataframe\">\n",
              "  <thead>\n",
              "    <tr style=\"text-align: right;\">\n",
              "      <th></th>\n",
              "      <th>track_id</th>\n",
              "      <th>track_name</th>\n",
              "      <th>popularity</th>\n",
              "      <th>duration_ms</th>\n",
              "      <th>playlist_id</th>\n",
              "      <th>group</th>\n",
              "    </tr>\n",
              "  </thead>\n",
              "  <tbody>\n",
              "    <tr>\n",
              "      <th>0</th>\n",
              "      <td>62aP9fBQKYKxi7PDXwcUAS</td>\n",
              "      <td>ily (i love you baby) (feat. Emilee)</td>\n",
              "      <td>78</td>\n",
              "      <td>176546</td>\n",
              "      <td>7JabddFr3Q6JPsND4v9Swf</td>\n",
              "      <td>Mood</td>\n",
              "    </tr>\n",
              "    <tr>\n",
              "      <th>1</th>\n",
              "      <td>4MSj19TwYBLgDFj3ddEeco</td>\n",
              "      <td>Black Friday (pretty like the sun)</td>\n",
              "      <td>86</td>\n",
              "      <td>145599</td>\n",
              "      <td>7JabddFr3Q6JPsND4v9Swf</td>\n",
              "      <td>Mood</td>\n",
              "    </tr>\n",
              "    <tr>\n",
              "      <th>2</th>\n",
              "      <td>68gqfdmUcUNMRINRYMxUd0</td>\n",
              "      <td>Sun Is Rising</td>\n",
              "      <td>48</td>\n",
              "      <td>119423</td>\n",
              "      <td>7JabddFr3Q6JPsND4v9Swf</td>\n",
              "      <td>Mood</td>\n",
              "    </tr>\n",
              "    <tr>\n",
              "      <th>3</th>\n",
              "      <td>5ITV0zqzjOYfFWpW0xBmRa</td>\n",
              "      <td>Show Me Love</td>\n",
              "      <td>94</td>\n",
              "      <td>176965</td>\n",
              "      <td>7JabddFr3Q6JPsND4v9Swf</td>\n",
              "      <td>Mood</td>\n",
              "    </tr>\n",
              "    <tr>\n",
              "      <th>4</th>\n",
              "      <td>0h5tts0i2xdEXkbWLgjBof</td>\n",
              "      <td>Baille</td>\n",
              "      <td>48</td>\n",
              "      <td>153442</td>\n",
              "      <td>7JabddFr3Q6JPsND4v9Swf</td>\n",
              "      <td>Mood</td>\n",
              "    </tr>\n",
              "  </tbody>\n",
              "</table>\n",
              "</div>\n",
              "    <div class=\"colab-df-buttons\">\n",
              "\n",
              "  <div class=\"colab-df-container\">\n",
              "    <button class=\"colab-df-convert\" onclick=\"convertToInteractive('df-ee1f349f-fd73-41b7-a249-ba206a0048f1')\"\n",
              "            title=\"Convert this dataframe to an interactive table.\"\n",
              "            style=\"display:none;\">\n",
              "\n",
              "  <svg xmlns=\"http://www.w3.org/2000/svg\" height=\"24px\" viewBox=\"0 -960 960 960\">\n",
              "    <path d=\"M120-120v-720h720v720H120Zm60-500h600v-160H180v160Zm220 220h160v-160H400v160Zm0 220h160v-160H400v160ZM180-400h160v-160H180v160Zm440 0h160v-160H620v160ZM180-180h160v-160H180v160Zm440 0h160v-160H620v160Z\"/>\n",
              "  </svg>\n",
              "    </button>\n",
              "\n",
              "  <style>\n",
              "    .colab-df-container {\n",
              "      display:flex;\n",
              "      gap: 12px;\n",
              "    }\n",
              "\n",
              "    .colab-df-convert {\n",
              "      background-color: #E8F0FE;\n",
              "      border: none;\n",
              "      border-radius: 50%;\n",
              "      cursor: pointer;\n",
              "      display: none;\n",
              "      fill: #1967D2;\n",
              "      height: 32px;\n",
              "      padding: 0 0 0 0;\n",
              "      width: 32px;\n",
              "    }\n",
              "\n",
              "    .colab-df-convert:hover {\n",
              "      background-color: #E2EBFA;\n",
              "      box-shadow: 0px 1px 2px rgba(60, 64, 67, 0.3), 0px 1px 3px 1px rgba(60, 64, 67, 0.15);\n",
              "      fill: #174EA6;\n",
              "    }\n",
              "\n",
              "    .colab-df-buttons div {\n",
              "      margin-bottom: 4px;\n",
              "    }\n",
              "\n",
              "    [theme=dark] .colab-df-convert {\n",
              "      background-color: #3B4455;\n",
              "      fill: #D2E3FC;\n",
              "    }\n",
              "\n",
              "    [theme=dark] .colab-df-convert:hover {\n",
              "      background-color: #434B5C;\n",
              "      box-shadow: 0px 1px 3px 1px rgba(0, 0, 0, 0.15);\n",
              "      filter: drop-shadow(0px 1px 2px rgba(0, 0, 0, 0.3));\n",
              "      fill: #FFFFFF;\n",
              "    }\n",
              "  </style>\n",
              "\n",
              "    <script>\n",
              "      const buttonEl =\n",
              "        document.querySelector('#df-ee1f349f-fd73-41b7-a249-ba206a0048f1 button.colab-df-convert');\n",
              "      buttonEl.style.display =\n",
              "        google.colab.kernel.accessAllowed ? 'block' : 'none';\n",
              "\n",
              "      async function convertToInteractive(key) {\n",
              "        const element = document.querySelector('#df-ee1f349f-fd73-41b7-a249-ba206a0048f1');\n",
              "        const dataTable =\n",
              "          await google.colab.kernel.invokeFunction('convertToInteractive',\n",
              "                                                    [key], {});\n",
              "        if (!dataTable) return;\n",
              "\n",
              "        const docLinkHtml = 'Like what you see? Visit the ' +\n",
              "          '<a target=\"_blank\" href=https://colab.research.google.com/notebooks/data_table.ipynb>data table notebook</a>'\n",
              "          + ' to learn more about interactive tables.';\n",
              "        element.innerHTML = '';\n",
              "        dataTable['output_type'] = 'display_data';\n",
              "        await google.colab.output.renderOutput(dataTable, element);\n",
              "        const docLink = document.createElement('div');\n",
              "        docLink.innerHTML = docLinkHtml;\n",
              "        element.appendChild(docLink);\n",
              "      }\n",
              "    </script>\n",
              "  </div>\n",
              "\n",
              "\n",
              "    <div id=\"df-964c5fc4-6015-4721-98ee-a235531fd00e\">\n",
              "      <button class=\"colab-df-quickchart\" onclick=\"quickchart('df-964c5fc4-6015-4721-98ee-a235531fd00e')\"\n",
              "                title=\"Suggest charts\"\n",
              "                style=\"display:none;\">\n",
              "\n",
              "<svg xmlns=\"http://www.w3.org/2000/svg\" height=\"24px\"viewBox=\"0 0 24 24\"\n",
              "     width=\"24px\">\n",
              "    <g>\n",
              "        <path d=\"M19 3H5c-1.1 0-2 .9-2 2v14c0 1.1.9 2 2 2h14c1.1 0 2-.9 2-2V5c0-1.1-.9-2-2-2zM9 17H7v-7h2v7zm4 0h-2V7h2v10zm4 0h-2v-4h2v4z\"/>\n",
              "    </g>\n",
              "</svg>\n",
              "      </button>\n",
              "\n",
              "<style>\n",
              "  .colab-df-quickchart {\n",
              "      --bg-color: #E8F0FE;\n",
              "      --fill-color: #1967D2;\n",
              "      --hover-bg-color: #E2EBFA;\n",
              "      --hover-fill-color: #174EA6;\n",
              "      --disabled-fill-color: #AAA;\n",
              "      --disabled-bg-color: #DDD;\n",
              "  }\n",
              "\n",
              "  [theme=dark] .colab-df-quickchart {\n",
              "      --bg-color: #3B4455;\n",
              "      --fill-color: #D2E3FC;\n",
              "      --hover-bg-color: #434B5C;\n",
              "      --hover-fill-color: #FFFFFF;\n",
              "      --disabled-bg-color: #3B4455;\n",
              "      --disabled-fill-color: #666;\n",
              "  }\n",
              "\n",
              "  .colab-df-quickchart {\n",
              "    background-color: var(--bg-color);\n",
              "    border: none;\n",
              "    border-radius: 50%;\n",
              "    cursor: pointer;\n",
              "    display: none;\n",
              "    fill: var(--fill-color);\n",
              "    height: 32px;\n",
              "    padding: 0;\n",
              "    width: 32px;\n",
              "  }\n",
              "\n",
              "  .colab-df-quickchart:hover {\n",
              "    background-color: var(--hover-bg-color);\n",
              "    box-shadow: 0 1px 2px rgba(60, 64, 67, 0.3), 0 1px 3px 1px rgba(60, 64, 67, 0.15);\n",
              "    fill: var(--button-hover-fill-color);\n",
              "  }\n",
              "\n",
              "  .colab-df-quickchart-complete:disabled,\n",
              "  .colab-df-quickchart-complete:disabled:hover {\n",
              "    background-color: var(--disabled-bg-color);\n",
              "    fill: var(--disabled-fill-color);\n",
              "    box-shadow: none;\n",
              "  }\n",
              "\n",
              "  .colab-df-spinner {\n",
              "    border: 2px solid var(--fill-color);\n",
              "    border-color: transparent;\n",
              "    border-bottom-color: var(--fill-color);\n",
              "    animation:\n",
              "      spin 1s steps(1) infinite;\n",
              "  }\n",
              "\n",
              "  @keyframes spin {\n",
              "    0% {\n",
              "      border-color: transparent;\n",
              "      border-bottom-color: var(--fill-color);\n",
              "      border-left-color: var(--fill-color);\n",
              "    }\n",
              "    20% {\n",
              "      border-color: transparent;\n",
              "      border-left-color: var(--fill-color);\n",
              "      border-top-color: var(--fill-color);\n",
              "    }\n",
              "    30% {\n",
              "      border-color: transparent;\n",
              "      border-left-color: var(--fill-color);\n",
              "      border-top-color: var(--fill-color);\n",
              "      border-right-color: var(--fill-color);\n",
              "    }\n",
              "    40% {\n",
              "      border-color: transparent;\n",
              "      border-right-color: var(--fill-color);\n",
              "      border-top-color: var(--fill-color);\n",
              "    }\n",
              "    60% {\n",
              "      border-color: transparent;\n",
              "      border-right-color: var(--fill-color);\n",
              "    }\n",
              "    80% {\n",
              "      border-color: transparent;\n",
              "      border-right-color: var(--fill-color);\n",
              "      border-bottom-color: var(--fill-color);\n",
              "    }\n",
              "    90% {\n",
              "      border-color: transparent;\n",
              "      border-bottom-color: var(--fill-color);\n",
              "    }\n",
              "  }\n",
              "</style>\n",
              "\n",
              "      <script>\n",
              "        async function quickchart(key) {\n",
              "          const quickchartButtonEl =\n",
              "            document.querySelector('#' + key + ' button');\n",
              "          quickchartButtonEl.disabled = true;  // To prevent multiple clicks.\n",
              "          quickchartButtonEl.classList.add('colab-df-spinner');\n",
              "          try {\n",
              "            const charts = await google.colab.kernel.invokeFunction(\n",
              "                'suggestCharts', [key], {});\n",
              "          } catch (error) {\n",
              "            console.error('Error during call to suggestCharts:', error);\n",
              "          }\n",
              "          quickchartButtonEl.classList.remove('colab-df-spinner');\n",
              "          quickchartButtonEl.classList.add('colab-df-quickchart-complete');\n",
              "        }\n",
              "        (() => {\n",
              "          let quickchartButtonEl =\n",
              "            document.querySelector('#df-964c5fc4-6015-4721-98ee-a235531fd00e button');\n",
              "          quickchartButtonEl.style.display =\n",
              "            google.colab.kernel.accessAllowed ? 'block' : 'none';\n",
              "        })();\n",
              "      </script>\n",
              "    </div>\n",
              "\n",
              "    </div>\n",
              "  </div>\n"
            ],
            "application/vnd.google.colaboratory.intrinsic+json": {
              "type": "dataframe",
              "variable_name": "data"
            }
          },
          "metadata": {},
          "execution_count": 28
        }
      ]
    },
    {
      "cell_type": "code",
      "source": [
        "data.shape"
      ],
      "metadata": {
        "colab": {
          "base_uri": "https://localhost:8080/"
        },
        "id": "_gXLsmAesYqe",
        "outputId": "8bf87654-db66-48bd-f5d1-6cfac8025ebc"
      },
      "execution_count": 47,
      "outputs": [
        {
          "output_type": "execute_result",
          "data": {
            "text/plain": [
              "(138474, 7)"
            ]
          },
          "metadata": {},
          "execution_count": 47
        }
      ]
    },
    {
      "cell_type": "code",
      "source": [
        "data.to_csv('track_raw.csv', index=False)"
      ],
      "metadata": {
        "id": "gAk7xNtDstlX"
      },
      "execution_count": 51,
      "outputs": []
    },
    {
      "cell_type": "code",
      "source": [
        "data.drop_duplicates(subset=['track_id', 'playlist_id'], inplace=True)\n"
      ],
      "metadata": {
        "id": "9wz0gvdUsti3"
      },
      "execution_count": 31,
      "outputs": []
    },
    {
      "cell_type": "code",
      "source": [
        "data['duration_min'] = data['duration_ms'] / 60000"
      ],
      "metadata": {
        "id": "1NbLs3TO-n2C"
      },
      "execution_count": 32,
      "outputs": []
    },
    {
      "cell_type": "code",
      "source": [
        "data.describe()"
      ],
      "metadata": {
        "colab": {
          "base_uri": "https://localhost:8080/",
          "height": 300
        },
        "id": "o3c6mgMU-Ir1",
        "outputId": "340f3c0e-2c31-445d-8539-791ae7f28cd9"
      },
      "execution_count": 33,
      "outputs": [
        {
          "output_type": "execute_result",
          "data": {
            "text/plain": [
              "          popularity   duration_ms   duration_min\n",
              "count  138474.000000  1.384740e+05  138474.000000\n",
              "mean       37.510024  2.093155e+05       3.488591\n",
              "std        23.282458  1.028240e+05       1.713733\n",
              "min         0.000000  0.000000e+00       0.000000\n",
              "25%        22.000000  1.556060e+05       2.593433\n",
              "50%        40.000000  1.967745e+05       3.279575\n",
              "75%        54.000000  2.419715e+05       4.032858\n",
              "max       100.000000  7.253779e+06     120.896317"
            ],
            "text/html": [
              "\n",
              "  <div id=\"df-d8e1a805-e29f-4abc-8949-c65a1c399066\" class=\"colab-df-container\">\n",
              "    <div>\n",
              "<style scoped>\n",
              "    .dataframe tbody tr th:only-of-type {\n",
              "        vertical-align: middle;\n",
              "    }\n",
              "\n",
              "    .dataframe tbody tr th {\n",
              "        vertical-align: top;\n",
              "    }\n",
              "\n",
              "    .dataframe thead th {\n",
              "        text-align: right;\n",
              "    }\n",
              "</style>\n",
              "<table border=\"1\" class=\"dataframe\">\n",
              "  <thead>\n",
              "    <tr style=\"text-align: right;\">\n",
              "      <th></th>\n",
              "      <th>popularity</th>\n",
              "      <th>duration_ms</th>\n",
              "      <th>duration_min</th>\n",
              "    </tr>\n",
              "  </thead>\n",
              "  <tbody>\n",
              "    <tr>\n",
              "      <th>count</th>\n",
              "      <td>138474.000000</td>\n",
              "      <td>1.384740e+05</td>\n",
              "      <td>138474.000000</td>\n",
              "    </tr>\n",
              "    <tr>\n",
              "      <th>mean</th>\n",
              "      <td>37.510024</td>\n",
              "      <td>2.093155e+05</td>\n",
              "      <td>3.488591</td>\n",
              "    </tr>\n",
              "    <tr>\n",
              "      <th>std</th>\n",
              "      <td>23.282458</td>\n",
              "      <td>1.028240e+05</td>\n",
              "      <td>1.713733</td>\n",
              "    </tr>\n",
              "    <tr>\n",
              "      <th>min</th>\n",
              "      <td>0.000000</td>\n",
              "      <td>0.000000e+00</td>\n",
              "      <td>0.000000</td>\n",
              "    </tr>\n",
              "    <tr>\n",
              "      <th>25%</th>\n",
              "      <td>22.000000</td>\n",
              "      <td>1.556060e+05</td>\n",
              "      <td>2.593433</td>\n",
              "    </tr>\n",
              "    <tr>\n",
              "      <th>50%</th>\n",
              "      <td>40.000000</td>\n",
              "      <td>1.967745e+05</td>\n",
              "      <td>3.279575</td>\n",
              "    </tr>\n",
              "    <tr>\n",
              "      <th>75%</th>\n",
              "      <td>54.000000</td>\n",
              "      <td>2.419715e+05</td>\n",
              "      <td>4.032858</td>\n",
              "    </tr>\n",
              "    <tr>\n",
              "      <th>max</th>\n",
              "      <td>100.000000</td>\n",
              "      <td>7.253779e+06</td>\n",
              "      <td>120.896317</td>\n",
              "    </tr>\n",
              "  </tbody>\n",
              "</table>\n",
              "</div>\n",
              "    <div class=\"colab-df-buttons\">\n",
              "\n",
              "  <div class=\"colab-df-container\">\n",
              "    <button class=\"colab-df-convert\" onclick=\"convertToInteractive('df-d8e1a805-e29f-4abc-8949-c65a1c399066')\"\n",
              "            title=\"Convert this dataframe to an interactive table.\"\n",
              "            style=\"display:none;\">\n",
              "\n",
              "  <svg xmlns=\"http://www.w3.org/2000/svg\" height=\"24px\" viewBox=\"0 -960 960 960\">\n",
              "    <path d=\"M120-120v-720h720v720H120Zm60-500h600v-160H180v160Zm220 220h160v-160H400v160Zm0 220h160v-160H400v160ZM180-400h160v-160H180v160Zm440 0h160v-160H620v160ZM180-180h160v-160H180v160Zm440 0h160v-160H620v160Z\"/>\n",
              "  </svg>\n",
              "    </button>\n",
              "\n",
              "  <style>\n",
              "    .colab-df-container {\n",
              "      display:flex;\n",
              "      gap: 12px;\n",
              "    }\n",
              "\n",
              "    .colab-df-convert {\n",
              "      background-color: #E8F0FE;\n",
              "      border: none;\n",
              "      border-radius: 50%;\n",
              "      cursor: pointer;\n",
              "      display: none;\n",
              "      fill: #1967D2;\n",
              "      height: 32px;\n",
              "      padding: 0 0 0 0;\n",
              "      width: 32px;\n",
              "    }\n",
              "\n",
              "    .colab-df-convert:hover {\n",
              "      background-color: #E2EBFA;\n",
              "      box-shadow: 0px 1px 2px rgba(60, 64, 67, 0.3), 0px 1px 3px 1px rgba(60, 64, 67, 0.15);\n",
              "      fill: #174EA6;\n",
              "    }\n",
              "\n",
              "    .colab-df-buttons div {\n",
              "      margin-bottom: 4px;\n",
              "    }\n",
              "\n",
              "    [theme=dark] .colab-df-convert {\n",
              "      background-color: #3B4455;\n",
              "      fill: #D2E3FC;\n",
              "    }\n",
              "\n",
              "    [theme=dark] .colab-df-convert:hover {\n",
              "      background-color: #434B5C;\n",
              "      box-shadow: 0px 1px 3px 1px rgba(0, 0, 0, 0.15);\n",
              "      filter: drop-shadow(0px 1px 2px rgba(0, 0, 0, 0.3));\n",
              "      fill: #FFFFFF;\n",
              "    }\n",
              "  </style>\n",
              "\n",
              "    <script>\n",
              "      const buttonEl =\n",
              "        document.querySelector('#df-d8e1a805-e29f-4abc-8949-c65a1c399066 button.colab-df-convert');\n",
              "      buttonEl.style.display =\n",
              "        google.colab.kernel.accessAllowed ? 'block' : 'none';\n",
              "\n",
              "      async function convertToInteractive(key) {\n",
              "        const element = document.querySelector('#df-d8e1a805-e29f-4abc-8949-c65a1c399066');\n",
              "        const dataTable =\n",
              "          await google.colab.kernel.invokeFunction('convertToInteractive',\n",
              "                                                    [key], {});\n",
              "        if (!dataTable) return;\n",
              "\n",
              "        const docLinkHtml = 'Like what you see? Visit the ' +\n",
              "          '<a target=\"_blank\" href=https://colab.research.google.com/notebooks/data_table.ipynb>data table notebook</a>'\n",
              "          + ' to learn more about interactive tables.';\n",
              "        element.innerHTML = '';\n",
              "        dataTable['output_type'] = 'display_data';\n",
              "        await google.colab.output.renderOutput(dataTable, element);\n",
              "        const docLink = document.createElement('div');\n",
              "        docLink.innerHTML = docLinkHtml;\n",
              "        element.appendChild(docLink);\n",
              "      }\n",
              "    </script>\n",
              "  </div>\n",
              "\n",
              "\n",
              "    <div id=\"df-6e5d0791-5950-4c45-8095-10f7fad1040f\">\n",
              "      <button class=\"colab-df-quickchart\" onclick=\"quickchart('df-6e5d0791-5950-4c45-8095-10f7fad1040f')\"\n",
              "                title=\"Suggest charts\"\n",
              "                style=\"display:none;\">\n",
              "\n",
              "<svg xmlns=\"http://www.w3.org/2000/svg\" height=\"24px\"viewBox=\"0 0 24 24\"\n",
              "     width=\"24px\">\n",
              "    <g>\n",
              "        <path d=\"M19 3H5c-1.1 0-2 .9-2 2v14c0 1.1.9 2 2 2h14c1.1 0 2-.9 2-2V5c0-1.1-.9-2-2-2zM9 17H7v-7h2v7zm4 0h-2V7h2v10zm4 0h-2v-4h2v4z\"/>\n",
              "    </g>\n",
              "</svg>\n",
              "      </button>\n",
              "\n",
              "<style>\n",
              "  .colab-df-quickchart {\n",
              "      --bg-color: #E8F0FE;\n",
              "      --fill-color: #1967D2;\n",
              "      --hover-bg-color: #E2EBFA;\n",
              "      --hover-fill-color: #174EA6;\n",
              "      --disabled-fill-color: #AAA;\n",
              "      --disabled-bg-color: #DDD;\n",
              "  }\n",
              "\n",
              "  [theme=dark] .colab-df-quickchart {\n",
              "      --bg-color: #3B4455;\n",
              "      --fill-color: #D2E3FC;\n",
              "      --hover-bg-color: #434B5C;\n",
              "      --hover-fill-color: #FFFFFF;\n",
              "      --disabled-bg-color: #3B4455;\n",
              "      --disabled-fill-color: #666;\n",
              "  }\n",
              "\n",
              "  .colab-df-quickchart {\n",
              "    background-color: var(--bg-color);\n",
              "    border: none;\n",
              "    border-radius: 50%;\n",
              "    cursor: pointer;\n",
              "    display: none;\n",
              "    fill: var(--fill-color);\n",
              "    height: 32px;\n",
              "    padding: 0;\n",
              "    width: 32px;\n",
              "  }\n",
              "\n",
              "  .colab-df-quickchart:hover {\n",
              "    background-color: var(--hover-bg-color);\n",
              "    box-shadow: 0 1px 2px rgba(60, 64, 67, 0.3), 0 1px 3px 1px rgba(60, 64, 67, 0.15);\n",
              "    fill: var(--button-hover-fill-color);\n",
              "  }\n",
              "\n",
              "  .colab-df-quickchart-complete:disabled,\n",
              "  .colab-df-quickchart-complete:disabled:hover {\n",
              "    background-color: var(--disabled-bg-color);\n",
              "    fill: var(--disabled-fill-color);\n",
              "    box-shadow: none;\n",
              "  }\n",
              "\n",
              "  .colab-df-spinner {\n",
              "    border: 2px solid var(--fill-color);\n",
              "    border-color: transparent;\n",
              "    border-bottom-color: var(--fill-color);\n",
              "    animation:\n",
              "      spin 1s steps(1) infinite;\n",
              "  }\n",
              "\n",
              "  @keyframes spin {\n",
              "    0% {\n",
              "      border-color: transparent;\n",
              "      border-bottom-color: var(--fill-color);\n",
              "      border-left-color: var(--fill-color);\n",
              "    }\n",
              "    20% {\n",
              "      border-color: transparent;\n",
              "      border-left-color: var(--fill-color);\n",
              "      border-top-color: var(--fill-color);\n",
              "    }\n",
              "    30% {\n",
              "      border-color: transparent;\n",
              "      border-left-color: var(--fill-color);\n",
              "      border-top-color: var(--fill-color);\n",
              "      border-right-color: var(--fill-color);\n",
              "    }\n",
              "    40% {\n",
              "      border-color: transparent;\n",
              "      border-right-color: var(--fill-color);\n",
              "      border-top-color: var(--fill-color);\n",
              "    }\n",
              "    60% {\n",
              "      border-color: transparent;\n",
              "      border-right-color: var(--fill-color);\n",
              "    }\n",
              "    80% {\n",
              "      border-color: transparent;\n",
              "      border-right-color: var(--fill-color);\n",
              "      border-bottom-color: var(--fill-color);\n",
              "    }\n",
              "    90% {\n",
              "      border-color: transparent;\n",
              "      border-bottom-color: var(--fill-color);\n",
              "    }\n",
              "  }\n",
              "</style>\n",
              "\n",
              "      <script>\n",
              "        async function quickchart(key) {\n",
              "          const quickchartButtonEl =\n",
              "            document.querySelector('#' + key + ' button');\n",
              "          quickchartButtonEl.disabled = true;  // To prevent multiple clicks.\n",
              "          quickchartButtonEl.classList.add('colab-df-spinner');\n",
              "          try {\n",
              "            const charts = await google.colab.kernel.invokeFunction(\n",
              "                'suggestCharts', [key], {});\n",
              "          } catch (error) {\n",
              "            console.error('Error during call to suggestCharts:', error);\n",
              "          }\n",
              "          quickchartButtonEl.classList.remove('colab-df-spinner');\n",
              "          quickchartButtonEl.classList.add('colab-df-quickchart-complete');\n",
              "        }\n",
              "        (() => {\n",
              "          let quickchartButtonEl =\n",
              "            document.querySelector('#df-6e5d0791-5950-4c45-8095-10f7fad1040f button');\n",
              "          quickchartButtonEl.style.display =\n",
              "            google.colab.kernel.accessAllowed ? 'block' : 'none';\n",
              "        })();\n",
              "      </script>\n",
              "    </div>\n",
              "\n",
              "    </div>\n",
              "  </div>\n"
            ],
            "application/vnd.google.colaboratory.intrinsic+json": {
              "type": "dataframe",
              "summary": "{\n  \"name\": \"data\",\n  \"rows\": 8,\n  \"fields\": [\n    {\n      \"column\": \"popularity\",\n      \"properties\": {\n        \"dtype\": \"number\",\n        \"std\": 48943.98084005165,\n        \"min\": 0.0,\n        \"max\": 138474.0,\n        \"num_unique_values\": 8,\n        \"samples\": [\n          37.510023542325634,\n          40.0,\n          138474.0\n        ],\n        \"semantic_type\": \"\",\n        \"description\": \"\"\n      }\n    },\n    {\n      \"column\": \"duration_ms\",\n      \"properties\": {\n        \"dtype\": \"number\",\n        \"std\": 2512929.6878198595,\n        \"min\": 0.0,\n        \"max\": 7253779.0,\n        \"num_unique_values\": 8,\n        \"samples\": [\n          209315.45182489132,\n          196774.5,\n          138474.0\n        ],\n        \"semantic_type\": \"\",\n        \"description\": \"\"\n      }\n    },\n    {\n      \"column\": \"duration_min\",\n      \"properties\": {\n        \"dtype\": \"number\",\n        \"std\": 48951.100486810574,\n        \"min\": 0.0,\n        \"max\": 138474.0,\n        \"num_unique_values\": 8,\n        \"samples\": [\n          3.4885908637481884,\n          3.279575,\n          138474.0\n        ],\n        \"semantic_type\": \"\",\n        \"description\": \"\"\n      }\n    }\n  ]\n}"
            }
          },
          "metadata": {},
          "execution_count": 33
        }
      ]
    },
    {
      "cell_type": "code",
      "source": [
        "playlist_stats = data.groupby(['playlist_id', 'group']).agg({\n",
        "    'popularity': ['mean', 'median', 'count'],\n",
        "    'duration_min': 'mean'\n",
        "}).reset_index()\n",
        "\n",
        "playlist_stats.columns = ['playlist_id', 'group', 'avg_popularity', 'median_popularity', 'track_count', 'avg_duration']"
      ],
      "metadata": {
        "id": "AcrLxHbfstgG"
      },
      "execution_count": 34,
      "outputs": []
    },
    {
      "cell_type": "code",
      "source": [
        "playlist_stats.shape"
      ],
      "metadata": {
        "colab": {
          "base_uri": "https://localhost:8080/"
        },
        "id": "SsqGjag1tESW",
        "outputId": "9775db30-e297-472d-9b47-7a6b5f9c5a34"
      },
      "execution_count": 48,
      "outputs": [
        {
          "output_type": "execute_result",
          "data": {
            "text/plain": [
              "(2321, 6)"
            ]
          },
          "metadata": {},
          "execution_count": 48
        }
      ]
    },
    {
      "cell_type": "code",
      "source": [
        "playlist_stats.head()"
      ],
      "metadata": {
        "colab": {
          "base_uri": "https://localhost:8080/",
          "height": 206
        },
        "id": "doP6AgfB-4Ii",
        "outputId": "aa598731-30bd-46d6-c587-c9721ec656bd"
      },
      "execution_count": 35,
      "outputs": [
        {
          "output_type": "execute_result",
          "data": {
            "text/plain": [
              "              playlist_id  group  avg_popularity  median_popularity  \\\n",
              "0  008G1BbvK1NQvbAV8MHvDz  Genre       63.823529               69.0   \n",
              "1  00FD7uok5bnbXdWQB4WXtB   Mood       45.489796               47.0   \n",
              "2  00FwtfyOlLC0sRE01NBoOu  Genre       25.750000               21.0   \n",
              "3  00KjsgI9t715OJFEUFziGJ  Genre       51.981481               66.5   \n",
              "4  00k3HRtwf1kkByBj5XP9ST   Mood       50.500000               53.5   \n",
              "\n",
              "   track_count  avg_duration  \n",
              "0           34      3.397460  \n",
              "1           98      2.672427  \n",
              "2            8      5.531450  \n",
              "3           54      4.346931  \n",
              "4           20      3.205407  "
            ],
            "text/html": [
              "\n",
              "  <div id=\"df-1c07e004-57ec-4d51-89f7-ec25edeacf44\" class=\"colab-df-container\">\n",
              "    <div>\n",
              "<style scoped>\n",
              "    .dataframe tbody tr th:only-of-type {\n",
              "        vertical-align: middle;\n",
              "    }\n",
              "\n",
              "    .dataframe tbody tr th {\n",
              "        vertical-align: top;\n",
              "    }\n",
              "\n",
              "    .dataframe thead th {\n",
              "        text-align: right;\n",
              "    }\n",
              "</style>\n",
              "<table border=\"1\" class=\"dataframe\">\n",
              "  <thead>\n",
              "    <tr style=\"text-align: right;\">\n",
              "      <th></th>\n",
              "      <th>playlist_id</th>\n",
              "      <th>group</th>\n",
              "      <th>avg_popularity</th>\n",
              "      <th>median_popularity</th>\n",
              "      <th>track_count</th>\n",
              "      <th>avg_duration</th>\n",
              "    </tr>\n",
              "  </thead>\n",
              "  <tbody>\n",
              "    <tr>\n",
              "      <th>0</th>\n",
              "      <td>008G1BbvK1NQvbAV8MHvDz</td>\n",
              "      <td>Genre</td>\n",
              "      <td>63.823529</td>\n",
              "      <td>69.0</td>\n",
              "      <td>34</td>\n",
              "      <td>3.397460</td>\n",
              "    </tr>\n",
              "    <tr>\n",
              "      <th>1</th>\n",
              "      <td>00FD7uok5bnbXdWQB4WXtB</td>\n",
              "      <td>Mood</td>\n",
              "      <td>45.489796</td>\n",
              "      <td>47.0</td>\n",
              "      <td>98</td>\n",
              "      <td>2.672427</td>\n",
              "    </tr>\n",
              "    <tr>\n",
              "      <th>2</th>\n",
              "      <td>00FwtfyOlLC0sRE01NBoOu</td>\n",
              "      <td>Genre</td>\n",
              "      <td>25.750000</td>\n",
              "      <td>21.0</td>\n",
              "      <td>8</td>\n",
              "      <td>5.531450</td>\n",
              "    </tr>\n",
              "    <tr>\n",
              "      <th>3</th>\n",
              "      <td>00KjsgI9t715OJFEUFziGJ</td>\n",
              "      <td>Genre</td>\n",
              "      <td>51.981481</td>\n",
              "      <td>66.5</td>\n",
              "      <td>54</td>\n",
              "      <td>4.346931</td>\n",
              "    </tr>\n",
              "    <tr>\n",
              "      <th>4</th>\n",
              "      <td>00k3HRtwf1kkByBj5XP9ST</td>\n",
              "      <td>Mood</td>\n",
              "      <td>50.500000</td>\n",
              "      <td>53.5</td>\n",
              "      <td>20</td>\n",
              "      <td>3.205407</td>\n",
              "    </tr>\n",
              "  </tbody>\n",
              "</table>\n",
              "</div>\n",
              "    <div class=\"colab-df-buttons\">\n",
              "\n",
              "  <div class=\"colab-df-container\">\n",
              "    <button class=\"colab-df-convert\" onclick=\"convertToInteractive('df-1c07e004-57ec-4d51-89f7-ec25edeacf44')\"\n",
              "            title=\"Convert this dataframe to an interactive table.\"\n",
              "            style=\"display:none;\">\n",
              "\n",
              "  <svg xmlns=\"http://www.w3.org/2000/svg\" height=\"24px\" viewBox=\"0 -960 960 960\">\n",
              "    <path d=\"M120-120v-720h720v720H120Zm60-500h600v-160H180v160Zm220 220h160v-160H400v160Zm0 220h160v-160H400v160ZM180-400h160v-160H180v160Zm440 0h160v-160H620v160ZM180-180h160v-160H180v160Zm440 0h160v-160H620v160Z\"/>\n",
              "  </svg>\n",
              "    </button>\n",
              "\n",
              "  <style>\n",
              "    .colab-df-container {\n",
              "      display:flex;\n",
              "      gap: 12px;\n",
              "    }\n",
              "\n",
              "    .colab-df-convert {\n",
              "      background-color: #E8F0FE;\n",
              "      border: none;\n",
              "      border-radius: 50%;\n",
              "      cursor: pointer;\n",
              "      display: none;\n",
              "      fill: #1967D2;\n",
              "      height: 32px;\n",
              "      padding: 0 0 0 0;\n",
              "      width: 32px;\n",
              "    }\n",
              "\n",
              "    .colab-df-convert:hover {\n",
              "      background-color: #E2EBFA;\n",
              "      box-shadow: 0px 1px 2px rgba(60, 64, 67, 0.3), 0px 1px 3px 1px rgba(60, 64, 67, 0.15);\n",
              "      fill: #174EA6;\n",
              "    }\n",
              "\n",
              "    .colab-df-buttons div {\n",
              "      margin-bottom: 4px;\n",
              "    }\n",
              "\n",
              "    [theme=dark] .colab-df-convert {\n",
              "      background-color: #3B4455;\n",
              "      fill: #D2E3FC;\n",
              "    }\n",
              "\n",
              "    [theme=dark] .colab-df-convert:hover {\n",
              "      background-color: #434B5C;\n",
              "      box-shadow: 0px 1px 3px 1px rgba(0, 0, 0, 0.15);\n",
              "      filter: drop-shadow(0px 1px 2px rgba(0, 0, 0, 0.3));\n",
              "      fill: #FFFFFF;\n",
              "    }\n",
              "  </style>\n",
              "\n",
              "    <script>\n",
              "      const buttonEl =\n",
              "        document.querySelector('#df-1c07e004-57ec-4d51-89f7-ec25edeacf44 button.colab-df-convert');\n",
              "      buttonEl.style.display =\n",
              "        google.colab.kernel.accessAllowed ? 'block' : 'none';\n",
              "\n",
              "      async function convertToInteractive(key) {\n",
              "        const element = document.querySelector('#df-1c07e004-57ec-4d51-89f7-ec25edeacf44');\n",
              "        const dataTable =\n",
              "          await google.colab.kernel.invokeFunction('convertToInteractive',\n",
              "                                                    [key], {});\n",
              "        if (!dataTable) return;\n",
              "\n",
              "        const docLinkHtml = 'Like what you see? Visit the ' +\n",
              "          '<a target=\"_blank\" href=https://colab.research.google.com/notebooks/data_table.ipynb>data table notebook</a>'\n",
              "          + ' to learn more about interactive tables.';\n",
              "        element.innerHTML = '';\n",
              "        dataTable['output_type'] = 'display_data';\n",
              "        await google.colab.output.renderOutput(dataTable, element);\n",
              "        const docLink = document.createElement('div');\n",
              "        docLink.innerHTML = docLinkHtml;\n",
              "        element.appendChild(docLink);\n",
              "      }\n",
              "    </script>\n",
              "  </div>\n",
              "\n",
              "\n",
              "    <div id=\"df-e557a288-1014-4e67-995d-7ab337520777\">\n",
              "      <button class=\"colab-df-quickchart\" onclick=\"quickchart('df-e557a288-1014-4e67-995d-7ab337520777')\"\n",
              "                title=\"Suggest charts\"\n",
              "                style=\"display:none;\">\n",
              "\n",
              "<svg xmlns=\"http://www.w3.org/2000/svg\" height=\"24px\"viewBox=\"0 0 24 24\"\n",
              "     width=\"24px\">\n",
              "    <g>\n",
              "        <path d=\"M19 3H5c-1.1 0-2 .9-2 2v14c0 1.1.9 2 2 2h14c1.1 0 2-.9 2-2V5c0-1.1-.9-2-2-2zM9 17H7v-7h2v7zm4 0h-2V7h2v10zm4 0h-2v-4h2v4z\"/>\n",
              "    </g>\n",
              "</svg>\n",
              "      </button>\n",
              "\n",
              "<style>\n",
              "  .colab-df-quickchart {\n",
              "      --bg-color: #E8F0FE;\n",
              "      --fill-color: #1967D2;\n",
              "      --hover-bg-color: #E2EBFA;\n",
              "      --hover-fill-color: #174EA6;\n",
              "      --disabled-fill-color: #AAA;\n",
              "      --disabled-bg-color: #DDD;\n",
              "  }\n",
              "\n",
              "  [theme=dark] .colab-df-quickchart {\n",
              "      --bg-color: #3B4455;\n",
              "      --fill-color: #D2E3FC;\n",
              "      --hover-bg-color: #434B5C;\n",
              "      --hover-fill-color: #FFFFFF;\n",
              "      --disabled-bg-color: #3B4455;\n",
              "      --disabled-fill-color: #666;\n",
              "  }\n",
              "\n",
              "  .colab-df-quickchart {\n",
              "    background-color: var(--bg-color);\n",
              "    border: none;\n",
              "    border-radius: 50%;\n",
              "    cursor: pointer;\n",
              "    display: none;\n",
              "    fill: var(--fill-color);\n",
              "    height: 32px;\n",
              "    padding: 0;\n",
              "    width: 32px;\n",
              "  }\n",
              "\n",
              "  .colab-df-quickchart:hover {\n",
              "    background-color: var(--hover-bg-color);\n",
              "    box-shadow: 0 1px 2px rgba(60, 64, 67, 0.3), 0 1px 3px 1px rgba(60, 64, 67, 0.15);\n",
              "    fill: var(--button-hover-fill-color);\n",
              "  }\n",
              "\n",
              "  .colab-df-quickchart-complete:disabled,\n",
              "  .colab-df-quickchart-complete:disabled:hover {\n",
              "    background-color: var(--disabled-bg-color);\n",
              "    fill: var(--disabled-fill-color);\n",
              "    box-shadow: none;\n",
              "  }\n",
              "\n",
              "  .colab-df-spinner {\n",
              "    border: 2px solid var(--fill-color);\n",
              "    border-color: transparent;\n",
              "    border-bottom-color: var(--fill-color);\n",
              "    animation:\n",
              "      spin 1s steps(1) infinite;\n",
              "  }\n",
              "\n",
              "  @keyframes spin {\n",
              "    0% {\n",
              "      border-color: transparent;\n",
              "      border-bottom-color: var(--fill-color);\n",
              "      border-left-color: var(--fill-color);\n",
              "    }\n",
              "    20% {\n",
              "      border-color: transparent;\n",
              "      border-left-color: var(--fill-color);\n",
              "      border-top-color: var(--fill-color);\n",
              "    }\n",
              "    30% {\n",
              "      border-color: transparent;\n",
              "      border-left-color: var(--fill-color);\n",
              "      border-top-color: var(--fill-color);\n",
              "      border-right-color: var(--fill-color);\n",
              "    }\n",
              "    40% {\n",
              "      border-color: transparent;\n",
              "      border-right-color: var(--fill-color);\n",
              "      border-top-color: var(--fill-color);\n",
              "    }\n",
              "    60% {\n",
              "      border-color: transparent;\n",
              "      border-right-color: var(--fill-color);\n",
              "    }\n",
              "    80% {\n",
              "      border-color: transparent;\n",
              "      border-right-color: var(--fill-color);\n",
              "      border-bottom-color: var(--fill-color);\n",
              "    }\n",
              "    90% {\n",
              "      border-color: transparent;\n",
              "      border-bottom-color: var(--fill-color);\n",
              "    }\n",
              "  }\n",
              "</style>\n",
              "\n",
              "      <script>\n",
              "        async function quickchart(key) {\n",
              "          const quickchartButtonEl =\n",
              "            document.querySelector('#' + key + ' button');\n",
              "          quickchartButtonEl.disabled = true;  // To prevent multiple clicks.\n",
              "          quickchartButtonEl.classList.add('colab-df-spinner');\n",
              "          try {\n",
              "            const charts = await google.colab.kernel.invokeFunction(\n",
              "                'suggestCharts', [key], {});\n",
              "          } catch (error) {\n",
              "            console.error('Error during call to suggestCharts:', error);\n",
              "          }\n",
              "          quickchartButtonEl.classList.remove('colab-df-spinner');\n",
              "          quickchartButtonEl.classList.add('colab-df-quickchart-complete');\n",
              "        }\n",
              "        (() => {\n",
              "          let quickchartButtonEl =\n",
              "            document.querySelector('#df-e557a288-1014-4e67-995d-7ab337520777 button');\n",
              "          quickchartButtonEl.style.display =\n",
              "            google.colab.kernel.accessAllowed ? 'block' : 'none';\n",
              "        })();\n",
              "      </script>\n",
              "    </div>\n",
              "\n",
              "    </div>\n",
              "  </div>\n"
            ],
            "application/vnd.google.colaboratory.intrinsic+json": {
              "type": "dataframe",
              "variable_name": "playlist_stats",
              "summary": "{\n  \"name\": \"playlist_stats\",\n  \"rows\": 2321,\n  \"fields\": [\n    {\n      \"column\": \"playlist_id\",\n      \"properties\": {\n        \"dtype\": \"string\",\n        \"num_unique_values\": 2236,\n        \"samples\": [\n          \"69iMzXWIJDSEMrCqgBq7nr\",\n          \"1BrMAvY098E0nFYlZxXbyt\",\n          \"4NUzqEnWpLtTBOIalk7rRD\"\n        ],\n        \"semantic_type\": \"\",\n        \"description\": \"\"\n      }\n    },\n    {\n      \"column\": \"group\",\n      \"properties\": {\n        \"dtype\": \"category\",\n        \"num_unique_values\": 2,\n        \"samples\": [\n          \"Mood\",\n          \"Genre\"\n        ],\n        \"semantic_type\": \"\",\n        \"description\": \"\"\n      }\n    },\n    {\n      \"column\": \"avg_popularity\",\n      \"properties\": {\n        \"dtype\": \"number\",\n        \"std\": 15.50189515810878,\n        \"min\": 0.0,\n        \"max\": 92.0,\n        \"num_unique_values\": 2196,\n        \"samples\": [\n          40.96875,\n          39.53012048192771\n        ],\n        \"semantic_type\": \"\",\n        \"description\": \"\"\n      }\n    },\n    {\n      \"column\": \"median_popularity\",\n      \"properties\": {\n        \"dtype\": \"number\",\n        \"std\": 18.642900653740693,\n        \"min\": 0.0,\n        \"max\": 92.0,\n        \"num_unique_values\": 160,\n        \"samples\": [\n          76.5,\n          59.5\n        ],\n        \"semantic_type\": \"\",\n        \"description\": \"\"\n      }\n    },\n    {\n      \"column\": \"track_count\",\n      \"properties\": {\n        \"dtype\": \"number\",\n        \"std\": 29,\n        \"min\": 1,\n        \"max\": 104,\n        \"num_unique_values\": 101,\n        \"samples\": [\n          86,\n          64\n        ],\n        \"semantic_type\": \"\",\n        \"description\": \"\"\n      }\n    },\n    {\n      \"column\": \"avg_duration\",\n      \"properties\": {\n        \"dtype\": \"number\",\n        \"std\": 1.048035748103104,\n        \"min\": 0.8425646825396826,\n        \"max\": 16.887678571428573,\n        \"num_unique_values\": 2320,\n        \"samples\": [\n          4.0551138576779024,\n          3.8017080128205127\n        ],\n        \"semantic_type\": \"\",\n        \"description\": \"\"\n      }\n    }\n  ]\n}"
            }
          },
          "metadata": {},
          "execution_count": 35
        }
      ]
    },
    {
      "cell_type": "code",
      "source": [
        "playlist_stats.to_csv('playlist_stats.csv', index=False)"
      ],
      "metadata": {
        "id": "PSPKd-XJwsfG"
      },
      "execution_count": 52,
      "outputs": []
    },
    {
      "cell_type": "code",
      "source": [
        "from scipy.stats import ttest_ind\n",
        "\n",
        "mood_scores = playlist_stats[playlist_stats['group'] == 'Mood']['avg_popularity']\n",
        "genre_scores = playlist_stats[playlist_stats['group'] == 'Genre']['avg_popularity']\n",
        "\n",
        "t_stat, p_val = ttest_ind(mood_scores, genre_scores, equal_var=False)\n",
        "\n",
        "print(f\"T-statistic: {t_stat:.3f}, p-value: {p_val:.4f}\")\n",
        "if p_val < 0.05:\n",
        "    print(\"✅ Statistically significant difference detected!\")\n",
        "else:\n",
        "    print(\"❌ No statistically significant difference.\")"
      ],
      "metadata": {
        "colab": {
          "base_uri": "https://localhost:8080/"
        },
        "id": "R8HudrrMstdl",
        "outputId": "f5e4334c-1bc7-4903-d928-4367bec5269d"
      },
      "execution_count": 36,
      "outputs": [
        {
          "output_type": "stream",
          "name": "stdout",
          "text": [
            "T-statistic: 10.351, p-value: 0.0000\n",
            "✅ Statistically significant difference detected!\n"
          ]
        }
      ]
    },
    {
      "cell_type": "code",
      "source": [
        "import seaborn as sns\n",
        "import matplotlib.pyplot as plt\n",
        "\n",
        "sns.histplot(mood_scores, kde=True, label=\"Mood\", color=\"blue\")\n",
        "sns.histplot(genre_scores, kde=True, label=\"Genre\", color=\"green\")\n",
        "plt.legend()\n",
        "plt.title(\"Distribution of Avg Track Popularity by Playlist Group\")\n",
        "plt.show()"
      ],
      "metadata": {
        "colab": {
          "base_uri": "https://localhost:8080/",
          "height": 472
        },
        "id": "Hw6gnVWbpeQx",
        "outputId": "ce783978-1e68-4029-cc95-a8b7b437f9f0"
      },
      "execution_count": 37,
      "outputs": [
        {
          "output_type": "display_data",
          "data": {
            "text/plain": [
              "<Figure size 640x480 with 1 Axes>"
            ],
            "image/png": "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\n"
          },
          "metadata": {}
        }
      ]
    },
    {
      "cell_type": "code",
      "source": [
        "import seaborn as sns\n",
        "import matplotlib.pyplot as plt\n",
        "\n",
        "# Compare number of tracks per playlist by group\n",
        "sns.boxplot(x='group', y='track_count', data=playlist_stats)\n",
        "plt.title(\"Track Count per Playlist by Group\")\n",
        "plt.show()\n",
        "\n",
        "# Summary stats\n",
        "mood_counts = playlist_stats[playlist_stats['group'] == 'Mood']['track_count']\n",
        "genre_counts = playlist_stats[playlist_stats['group'] == 'Genre']['track_count']\n",
        "\n",
        "print(\"Mood playlists - Mean:\", mood_counts.mean(), \"Std:\", mood_counts.std())\n",
        "print(\"Genre playlists - Mean:\", genre_counts.mean(), \"Std:\", genre_counts.std())\n"
      ],
      "metadata": {
        "colab": {
          "base_uri": "https://localhost:8080/",
          "height": 507
        },
        "id": "uNtVFT3H0CAt",
        "outputId": "3dd99bf6-f98f-4c98-efc3-13e8fac464b5"
      },
      "execution_count": 38,
      "outputs": [
        {
          "output_type": "display_data",
          "data": {
            "text/plain": [
              "<Figure size 640x480 with 1 Axes>"
            ],
            "image/png": "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\n"
          },
          "metadata": {}
        },
        {
          "output_type": "stream",
          "name": "stdout",
          "text": [
            "Mood playlists - Mean: 61.530560271646856 Std: 29.834852715561272\n",
            "Genre playlists - Mean: 57.73490813648294 Std: 30.02877600004258\n"
          ]
        }
      ]
    },
    {
      "cell_type": "code",
      "source": [
        "import seaborn as sns\n",
        "import matplotlib.pyplot as plt\n",
        "\n",
        "sns.histplot(playlist_stats, x='track_count', hue='group', kde=True, bins=30)\n",
        "plt.title(\"Track Count Distribution per Playlist by Group\")\n",
        "plt.xlabel(\"Number of Tracks\")\n",
        "plt.ylabel(\"Playlist Count\")\n",
        "plt.show()\n"
      ],
      "metadata": {
        "colab": {
          "base_uri": "https://localhost:8080/",
          "height": 472
        },
        "id": "GmQPmOtm2_bf",
        "outputId": "aa153219-6b9a-4ebd-942c-0d3935b816b1"
      },
      "execution_count": 39,
      "outputs": [
        {
          "output_type": "display_data",
          "data": {
            "text/plain": [
              "<Figure size 640x480 with 1 Axes>"
            ],
            "image/png": "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\n"
          },
          "metadata": {}
        }
      ]
    },
    {
      "cell_type": "code",
      "source": [
        "sns.kdeplot(mood_scores, shade=True, label='Mood', color='blue')\n",
        "sns.kdeplot(genre_scores, shade=True, label='Genre', color='green')\n",
        "plt.title(\"Engagement (Popularity) Distribution per Group\")\n",
        "plt.legend()\n",
        "plt.show()"
      ],
      "metadata": {
        "colab": {
          "base_uri": "https://localhost:8080/",
          "height": 680
        },
        "id": "ZvjekU_20U-w",
        "outputId": "dd034b3b-eb2c-4b93-b851-1cdf59ae525d"
      },
      "execution_count": 40,
      "outputs": [
        {
          "output_type": "stream",
          "name": "stderr",
          "text": [
            "<ipython-input-40-9d1bd0f199b8>:1: FutureWarning: \n",
            "\n",
            "`shade` is now deprecated in favor of `fill`; setting `fill=True`.\n",
            "This will become an error in seaborn v0.14.0; please update your code.\n",
            "\n",
            "  sns.kdeplot(mood_scores, shade=True, label='Mood', color='blue')\n",
            "<ipython-input-40-9d1bd0f199b8>:2: FutureWarning: \n",
            "\n",
            "`shade` is now deprecated in favor of `fill`; setting `fill=True`.\n",
            "This will become an error in seaborn v0.14.0; please update your code.\n",
            "\n",
            "  sns.kdeplot(genre_scores, shade=True, label='Genre', color='green')\n"
          ]
        },
        {
          "output_type": "display_data",
          "data": {
            "text/plain": [
              "<Figure size 640x480 with 1 Axes>"
            ],
            "image/png": "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\n"
          },
          "metadata": {}
        }
      ]
    },
    {
      "cell_type": "code",
      "source": [
        "sns.boxplot(x='group', y='avg_popularity', data=playlist_stats)\n",
        "plt.title(\"Avg Popularity per Playlist - Check for Outliers\")\n",
        "plt.show()"
      ],
      "metadata": {
        "colab": {
          "base_uri": "https://localhost:8080/",
          "height": 472
        },
        "id": "F6h1f8gC0duH",
        "outputId": "2d0b8fed-5451-4a44-ab3f-8e9398446367"
      },
      "execution_count": 41,
      "outputs": [
        {
          "output_type": "display_data",
          "data": {
            "text/plain": [
              "<Figure size 640x480 with 1 Axes>"
            ],
            "image/png": "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\n"
          },
          "metadata": {}
        }
      ]
    },
    {
      "cell_type": "code",
      "source": [
        "# Outlier detection using IQR\n",
        "def detect_outliers(series):\n",
        "    Q1 = series.quantile(0.25)\n",
        "    Q3 = series.quantile(0.75)\n",
        "    IQR = Q3 - Q1\n",
        "    lower = Q1 - 1.5 * IQR\n",
        "    upper = Q3 + 1.5 * IQR\n",
        "    return series[(series < lower) | (series > upper)]\n",
        "\n",
        "mood_outliers = detect_outliers(mood_scores)\n",
        "genre_outliers = detect_outliers(genre_scores)\n",
        "\n",
        "print(\"Mood outliers:\", len(mood_outliers))\n",
        "print(\"Genre outliers:\", len(genre_outliers))\n"
      ],
      "metadata": {
        "colab": {
          "base_uri": "https://localhost:8080/"
        },
        "id": "nhyUbZbk0okS",
        "outputId": "03dbf6e0-4bc5-473f-9c1f-c5f3244c64be"
      },
      "execution_count": 42,
      "outputs": [
        {
          "output_type": "stream",
          "name": "stdout",
          "text": [
            "Mood outliers: 10\n",
            "Genre outliers: 2\n"
          ]
        }
      ]
    },
    {
      "cell_type": "code",
      "source": [
        "import numpy as np\n",
        "\n",
        "def bootstrap_mean_difference(x, y, n_iter=10000):\n",
        "    boot_diffs = []\n",
        "    for _ in range(n_iter):\n",
        "        boot_x = np.random.choice(x, size=len(x), replace=True)\n",
        "        boot_y = np.random.choice(y, size=len(y), replace=True)\n",
        "        boot_diffs.append(np.mean(boot_x) - np.mean(boot_y))\n",
        "    return boot_diffs\n",
        "\n",
        "boot_diffs = bootstrap_mean_difference(mood_scores.values, genre_scores.values)\n",
        "\n",
        "# Plot\n",
        "sns.histplot(boot_diffs, kde=True)\n",
        "plt.axvline(np.mean(boot_diffs), color='red', label='Mean Diff')\n",
        "plt.axvline(np.percentile(boot_diffs, 2.5), color='black', linestyle='--')\n",
        "plt.axvline(np.percentile(boot_diffs, 97.5), color='black', linestyle='--')\n",
        "plt.title(\"Bootstrap Distribution of Mean Difference\")\n",
        "plt.legend()\n",
        "plt.show()\n",
        "\n",
        "# Report result\n",
        "ci_lower = np.percentile(boot_diffs, 2.5)\n",
        "ci_upper = np.percentile(boot_diffs, 97.5)\n",
        "print(f\"95% CI for mean diff: [{ci_lower:.3f}, {ci_upper:.3f}]\")\n"
      ],
      "metadata": {
        "colab": {
          "base_uri": "https://localhost:8080/",
          "height": 469
        },
        "id": "q3u372cc0sjd",
        "outputId": "d1b45ea5-05ea-4f9b-d117-413d1b35755f"
      },
      "execution_count": 43,
      "outputs": [
        {
          "output_type": "display_data",
          "data": {
            "text/plain": [
              "<Figure size 640x480 with 1 Axes>"
            ],
            "image/png": "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\n"
          },
          "metadata": {}
        },
        {
          "output_type": "stream",
          "name": "stdout",
          "text": [
            "95% CI for mean diff: [5.295, 7.781]\n"
          ]
        }
      ]
    },
    {
      "cell_type": "code",
      "source": [
        "def remove_outliers(series):\n",
        "    Q1 = series.quantile(0.25)\n",
        "    Q3 = series.quantile(0.75)\n",
        "    IQR = Q3 - Q1\n",
        "    lower = Q1 - 1.5 * IQR\n",
        "    upper = Q3 + 1.5 * IQR\n",
        "    return series[(series >= lower) & (series <= upper)]"
      ],
      "metadata": {
        "id": "H-J6sRmp0wC8"
      },
      "execution_count": 44,
      "outputs": []
    },
    {
      "cell_type": "code",
      "source": [
        "filtered_mood_scores = remove_outliers(mood_scores)\n",
        "filtered_genre_scores = remove_outliers(genre_scores)"
      ],
      "metadata": {
        "id": "XqHhXzXz125X"
      },
      "execution_count": 45,
      "outputs": []
    },
    {
      "cell_type": "code",
      "source": [
        "boot_diffs_filtered = bootstrap_mean_difference(\n",
        "    filtered_mood_scores.values,\n",
        "    filtered_genre_scores.values\n",
        ")\n",
        "\n",
        "# Plot\n",
        "sns.histplot(boot_diffs_filtered, kde=True)\n",
        "plt.axvline(np.mean(boot_diffs_filtered), color='red', label='Mean Diff')\n",
        "plt.axvline(np.percentile(boot_diffs_filtered, 2.5), color='black', linestyle='--')\n",
        "plt.axvline(np.percentile(boot_diffs_filtered, 97.5), color='black', linestyle='--')\n",
        "plt.title(\"Bootstrap CI After Removing Outliers\")\n",
        "plt.legend()\n",
        "plt.show()\n",
        "\n",
        "# Report result\n",
        "ci_lower = np.percentile(boot_diffs_filtered, 2.5)\n",
        "ci_upper = np.percentile(boot_diffs_filtered, 97.5)\n",
        "print(f\"Filtered 95% CI for mean diff: [{ci_lower:.3f}, {ci_upper:.3f}]\")\n"
      ],
      "metadata": {
        "colab": {
          "base_uri": "https://localhost:8080/",
          "height": 469
        },
        "id": "VLolpELk17Td",
        "outputId": "2a421392-b451-454d-ed45-318476d31979"
      },
      "execution_count": 46,
      "outputs": [
        {
          "output_type": "display_data",
          "data": {
            "text/plain": [
              "<Figure size 640x480 with 1 Axes>"
            ],
            "image/png": "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\n"
          },
          "metadata": {}
        },
        {
          "output_type": "stream",
          "name": "stdout",
          "text": [
            "Filtered 95% CI for mean diff: [5.561, 7.994]\n"
          ]
        }
      ]
    },
    {
      "cell_type": "code",
      "source": [],
      "metadata": {
        "id": "mwa7Ic36R9Mj"
      },
      "execution_count": null,
      "outputs": []
    },
    {
      "cell_type": "code",
      "source": [],
      "metadata": {
        "id": "30CP0CAW1_rE"
      },
      "execution_count": null,
      "outputs": []
    }
  ]
}
